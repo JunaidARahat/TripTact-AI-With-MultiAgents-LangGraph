{
 "cells": [
  {
   "cell_type": "code",
   "execution_count": 1,
   "metadata": {},
   "outputs": [],
   "source": [
    "import os\n",
    "from typing import TypedDict, Annotated, List\n",
    "from langgraph.graph import StateGraph, END\n",
    "from langchain_core.messages import HumanMessage, AIMessage\n",
    "from langchain_core.prompts import ChatPromptTemplate\n",
    "from langchain_core.runnables.graph import MermaidDrawMethod\n",
    "from IPython.display import display, Image"
   ]
  },
  {
   "cell_type": "code",
   "execution_count": 3,
   "metadata": {},
   "outputs": [],
   "source": [
    "class PlannerState(TypedDict):\n",
    "    messages: Annotated[List[HumanMessage | AIMessage], \"The messages in the conversation\"]\n",
    "    city: str\n",
    "    interests: List[str]\n",
    "    recommendations: List[str]\n",
    "    itinerary: str"
   ]
  },
  {
   "cell_type": "code",
   "execution_count": 4,
   "metadata": {},
   "outputs": [],
   "source": [
    "from langchain_groq import ChatGroq\n",
    "city_agent = ChatGroq(\n",
    "    temperature=0,\n",
    "    groq_api_key=\"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\",\n",
    "    model_name=\"llama-3.3-70b-versatile\"\n",
    ")\n",
    "\n",
    "interest_agent = ChatGroq(\n",
    "    temperature=0,\n",
    "    groq_api_key=\"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\",\n",
    "    model_name=\"llama-3.3-70b-versatile\"\n",
    ")\n",
    "\n",
    "itinerary_agent = ChatGroq(\n",
    "    temperature=0,\n",
    "    groq_api_key=\"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\",\n",
    "    model_name=\"llama-3.3-70b-versatile\"\n",
    ")\n"
   ]
  },
  {
   "cell_type": "code",
   "execution_count": 5,
   "metadata": {},
   "outputs": [],
   "source": [
    "city_prompt = ChatPromptTemplate.from_messages([\n",
    "    (\"system\", \"You are a city expert. Recommend activities and locations in {city} for a day trip.\"),\n",
    "    (\"human\", \"What are the best places to visit in {city}?\")\n",
    "])"
   ]
  },
  {
   "cell_type": "code",
   "execution_count": 6,
   "metadata": {},
   "outputs": [],
   "source": [
    "interest_prompt = ChatPromptTemplate.from_messages([\n",
    "    (\"system\", \"You are an interest parser. Categorize the user's interests: {interests} into activities like museums, parks, or cafes.\"),\n",
    "    (\"human\", \"Categorize my interests.\")\n",
    "])"
   ]
  },
  {
   "cell_type": "code",
   "execution_count": 7,
   "metadata": {},
   "outputs": [],
   "source": [
    "itinerary_prompt = ChatPromptTemplate.from_messages([\n",
    "    (\"system\", \"You are a helpful travel assistant. Create a day trip itinerary for {city} using these recommendations: {recommendations} and these interests: {interests}. Provide a brief, bulleted itinerary.\"),\n",
    "    (\"human\", \"Create a complete itinerary for my trip.\")\n",
    "])"
   ]
  },
  {
   "cell_type": "code",
   "execution_count": 8,
   "metadata": {},
   "outputs": [],
   "source": [
    "def get_city_recommendations(city: str) -> List[str]:\n",
    "    response = city_agent.invoke(city_prompt.format_messages(city=city))\n",
    "    return response.content.split(\"\\n\")  # Split response into list of recommendations\n",
    "\n",
    "def parse_interests(interests: str) -> List[str]:\n",
    "    response = interest_agent.invoke(interest_prompt.format_messages(interests=interests))\n",
    "    return [interest.strip() for interest in response.content.split(\",\")]\n",
    "\n",
    "def create_itinerary(city: str, recommendations: List[str], interests: List[str]) -> str:\n",
    "    response = itinerary_agent.invoke(itinerary_prompt.format_messages(\n",
    "        city=city, recommendations=\"; \".join(recommendations), interests=\", \".join(interests)))\n",
    "    return response.content"
   ]
  },
  {
   "cell_type": "code",
   "execution_count": 9,
   "metadata": {},
   "outputs": [],
   "source": [
    "workflow = StateGraph(PlannerState)\n",
    "\n",
    "workflow.add_node(\"get_city_recommendations\", get_city_recommendations)\n",
    "workflow.add_node(\"parse_interest\", parse_interests)\n",
    "workflow.add_node(\"create_itinerary\", create_itinerary)\n",
    "\n",
    "workflow.set_entry_point(\"get_city_recommendations\")\n",
    "\n",
    "workflow.add_edge(\"get_city_recommendations\", \"parse_interest\")\n",
    "workflow.add_edge(\"parse_interest\", \"create_itinerary\")\n",
    "workflow.add_edge(\"create_itinerary\", END)\n",
    "\n",
    "app = workflow.compile()"
   ]
  },
  {
   "cell_type": "code",
   "execution_count": 10,
   "metadata": {},
   "outputs": [
    {
     "data": {
      "image/png": "[encoded data removed]",
      "text/plain": [
       "<IPython.core.display.Image object>"
      ]
     },
     "metadata": {},
     "output_type": "display_data"
    }
   ],
   "source": [
    "display(\n",
    "    Image(\n",
    "        app.get_graph().draw_mermaid_png(\n",
    "            draw_method = MermaidDrawMethod.API\n",
    "        )\n",
    "    )\n",
    ")"
   ]
  },
  {
   "cell_type": "code",
   "execution_count": null,
   "metadata": {},
   "outputs": [],
   "source": []
  }
 ],
 "metadata": {
  "kernelspec": {
   "display_name": "trip",
   "language": "python",
   "name": "python3"
  },
  "language_info": {
   "codemirror_mode": {
    "name": "ipython",
    "version": 3
   },
   "file_extension": ".py",
   "mimetype": "text/x-python",
   "name": "python",
   "nbconvert_exporter": "python",
   "pygments_lexer": "ipython3",
   "version": "3.10.16"
  }
 },
 "nbformat": 4,
 "nbformat_minor": 2
}
